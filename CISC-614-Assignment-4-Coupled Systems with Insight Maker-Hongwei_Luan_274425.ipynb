{
 "cells": [
  {
   "cell_type": "markdown",
   "metadata": {
    "toc": true
   },
   "source": [
    "<h1>Table of Contents<span class=\"tocSkip\"></span></h1>\n",
    "<div class=\"toc\"><ul class=\"toc-item\"><li><span><a href=\"#Abstract\" data-toc-modified-id=\"Abstract-1\"><span class=\"toc-item-num\">1&nbsp;&nbsp;</span>Abstract</a></span></li><li><span><a href=\"#Introduction\" data-toc-modified-id=\"Introduction-2\"><span class=\"toc-item-num\">2&nbsp;&nbsp;</span>Introduction</a></span><ul class=\"toc-item\"><li><span><a href=\"#Equilibrium-Values\" data-toc-modified-id=\"Equilibrium-Values-2.1\"><span class=\"toc-item-num\">2.1&nbsp;&nbsp;</span>Equilibrium Values</a></span></li></ul></li><li><span><a href=\"#Methods\" data-toc-modified-id=\"Methods-3\"><span class=\"toc-item-num\">3&nbsp;&nbsp;</span>Methods</a></span></li><li><span><a href=\"#Results-and-Outputs\" data-toc-modified-id=\"Results-and-Outputs-4\"><span class=\"toc-item-num\">4&nbsp;&nbsp;</span>Results and Outputs</a></span><ul class=\"toc-item\"><li><span><a href=\"#Derivation-of-Equalibrium-Values\" data-toc-modified-id=\"Derivation-of-Equalibrium-Values-4.1\"><span class=\"toc-item-num\">4.1&nbsp;&nbsp;</span>Derivation of Equalibrium Values</a></span></li><li><span><a href=\"#Derivation-of-Analytical-Solution-assuming-death-rate-is-0\" data-toc-modified-id=\"Derivation-of-Analytical-Solution-assuming-death-rate-is-0-4.2\"><span class=\"toc-item-num\">4.2&nbsp;&nbsp;</span>Derivation of Analytical Solution assuming death rate is 0</a></span></li><li><span><a href=\"#Insight-Maker-Results\" data-toc-modified-id=\"Insight-Maker-Results-4.3\"><span class=\"toc-item-num\">4.3&nbsp;&nbsp;</span>Insight Maker Results</a></span><ul class=\"toc-item\"><li><span><a href=\"#Model-Schematic\" data-toc-modified-id=\"Model-Schematic-4.3.1\"><span class=\"toc-item-num\">4.3.1&nbsp;&nbsp;</span>Model Schematic</a></span></li><li><span><a href=\"#Initial-test-case-results\" data-toc-modified-id=\"Initial-test-case-results-4.3.2\"><span class=\"toc-item-num\">4.3.2&nbsp;&nbsp;</span>Initial test case results</a></span></li><li><span><a href=\"#A-first-test-and-exploration-of-the-model-(death-rate-is-zero)\" data-toc-modified-id=\"A-first-test-and-exploration-of-the-model-(death-rate-is-zero)-4.3.3\"><span class=\"toc-item-num\">4.3.3&nbsp;&nbsp;</span>A first test and exploration of the model (death rate is zero)</a></span></li><li><span><a href=\"#A-second-test,-looking-for-equilibrium-values\" data-toc-modified-id=\"A-second-test,-looking-for-equilibrium-values-4.3.4\"><span class=\"toc-item-num\">4.3.4&nbsp;&nbsp;</span>A second test, looking for equilibrium values</a></span></li></ul></li></ul></li><li><span><a href=\"#Summary\" data-toc-modified-id=\"Summary-5\"><span class=\"toc-item-num\">5&nbsp;&nbsp;</span>Summary</a></span></li><li><span><a href=\"#References\" data-toc-modified-id=\"References-6\"><span class=\"toc-item-num\">6&nbsp;&nbsp;</span>References</a></span></li></ul></div>"
   ]
  },
  {
   "cell_type": "markdown",
   "metadata": {
    "ExecuteTime": {
     "end_time": "2020-04-25T02:53:36.034556Z",
     "start_time": "2020-04-25T02:53:36.030455Z"
    }
   },
   "source": [
    "CISC-614-Assignment-4-Coupled Systems with Insight Maker: Competitive Hunter Model - Tigers and Dinosaurs\n",
    "===\n",
    "* **Hongwei Luan**\n",
    "* **Jul 22, 2021**\n",
    "\n",
    "---"
   ]
  },
  {
   "cell_type": "markdown",
   "metadata": {},
   "source": [
    "## Abstract\n",
    "\n",
    "Insight Maker can be used for simulating coupled system. In this report we investigated systems of difference equations for Competitive Hunter Model. We can see from the results that although dinosaurs started with a higher initial numbers it is less competitive in the system in a long-term. The number of dinosaurs decreased much quicker than the population of tigers. It is approximately in a exponential decay. On the other hand, the number of tiger decreased slightly at the beginning then it started to increase. The results of zero death rate shows that both number of tigers and dinosaurs increase exponentially. Dinasaurs increase more quickly due to its higher birth ratte. The numbers from Insight Maker from the first round is close to the analytical method but not exactly the same. After I checked the options in the settings, I found the default method is Fast(Eular) which explains why there is a bit off from the analytical solution. The numbers from the Accurate(RK4) method matches the analytical solution well but the computation speed is slower than the Fast(Eular) methd. I will consider this in the future. The results of zero death rate shows that both number of tigers and dinosaurs increase exponentially. Dinasaurs increase more quickly due to its higher birth ratte. The numbers from Insight Maker from the first round is close to the analytical method but not exactly the same. After I checked the options in the settings, I found the default method is Fast(Eular) which explains why there is a bit off from the analytical solution. The numbers from the Accurate(RK4) method matches the analytical solution well but the computation speed is slower than the Fast(Eular) methd. I will consider this in the future.\n",
    "\n"
   ]
  },
  {
   "cell_type": "markdown",
   "metadata": {
    "ExecuteTime": {
     "end_time": "2020-04-25T02:54:27.373393Z",
     "start_time": "2020-04-25T02:54:27.371135Z"
    }
   },
   "source": [
    "## Introduction\n",
    "\n",
    "In this report we will investigate systems of difference equations. With given initial values, we will build numerical solutions to get an indication of the long-term behavior of the system. In last assignment, we saw equilibrium values are values of the dependent variable(s) for which there is no change in the system once the equilibrium values are obtained. The model of coupled variables will be studied by systems of diffence equations using Insight Maker\n",
    "\n",
    "We will use Tigers and dinosaurs as the example of coupled systems. Tigers and dinosaurs are generally “competitive species” (as opposed to predator-prey). Although on rare occasions they may prey on each other (especially trying to gang up on the new born), for the most part they share the same territory and often fight over prey. \n",
    "\n",
    "\n",
    "Although there are many ways to model the mutually detrimental interaction of the two\n",
    "species, we will assume that this decrease is approximately proportional to the number of\n",
    "possible interactions between the two species. Assume that the populations of Tigers, $T$, and Dinosaurs, $D$, of these two species can be described by a coupled set of differential equations\n",
    "\n",
    "$$\\frac{dT}{dt} = k_1T - k_3TD$$\n",
    "\n",
    "$$\\frac{dD}{dt} = k_2D` - k_4TD$$\n",
    "\n",
    "or in different form\n",
    "\n",
    "$$\\Delta T_n = k_1Tn -k_3T_nD_n$$\n",
    "\n",
    "$$\\Delta D_n = k_2Dn -k_4T_nD_n$$\n",
    "\n",
    "where k1 and k2 are the constant positive growth rates.\n",
    "\n",
    "Soving each equations for the n+1st term yields\n",
    "\n",
    "$$T_{n+1} = (1+k_1)T_n - k_3T_nD_n$$\n",
    "\n",
    "$$D_{n+1} = (1+k_2)D_n - k_4T_nD_n$$\n",
    "\n",
    "where $k_1-k_4$ are positive constants. \n",
    "\n",
    "### Equilibrium Values\n",
    "\n",
    "When we get equilibrium values, we have $T = T_{n+1} = T_n$, and $D = D_{n+1} = D_n$. Plugging into the systems above, we have\n",
    "\n",
    "$$T = (1+k_1)T - k_3TD$$\n",
    "\n",
    "$$D = (1+k_2)D - k_4TD$$\n",
    "\n",
    "or \n",
    "\n",
    "$$0 = k_1T - k_3TD = T(k_1 - k_3D)$$\n",
    "\n",
    "$$0 = k_2D - k_4TD = D(k_2 - k_4T)$$\n",
    "\n",
    "The first equation indicates that there is no change in the Tiger population if T = 0 or D = $k_1 / k_3$. The second equation indicates that there is no change in the Dinosaur population if D = 0 or T = $k_2 / k_4$\n",
    "\n",
    "However, the equilibrium condition is sensitive to initial conditions. The equilibrium values are unstable in the sense that if we start close to either equilibrium value, we do not remain close. Note how the model predicts that coexistence of the two species in a single habitat is highly unlikely because one of the two species will eventually dominate the habitat. In the problem set, you are asked to explore this system further by examining other starting points and by changing the coef\u001c",
    "cients of the model.\n",
    "\n",
    "In this report, the purpose is to investigate coupled systems of difference equations. First, we will derive equation for the equilibrium values of the two populations as a function of the four constants. In other words,\n",
    "\n",
    "$$T_{equ} = f(k_2, k_4)$$\n",
    "$$D_{equ} = g(k_1, k_3)$$\n",
    "\n",
    "Second, we will derive closed-form, analytical solutions for the two differential equations under\n",
    "the assumption that the death rates are zero. Once we have implemented the model in Insight Maker, we will perform and show/explain the results of an equilibrium test and a zero-death-rate test. "
   ]
  },
  {
   "cell_type": "markdown",
   "metadata": {
    "ExecuteTime": {
     "end_time": "2020-04-25T02:55:10.127410Z",
     "start_time": "2020-04-25T02:55:10.125286Z"
    }
   },
   "source": [
    "## Methods\n",
    "\n",
    "In this study, the equilibrium values of the two populations as a function of the four constants was derived first. Second, the closed-form, analytical solutions for the two differential equations under the assumption that the death rates are zero were derived as well. The verification cases of an equilibrium test and a zero-death-rate test were performed and explained using Insight Maker.\n",
    "\n",
    "After the initial verification steps above, perform a test under the following conditions, where\n",
    "parameter units are critters-per-month\n",
    "\n",
    "$$k_1 = 0.022\\space tiger\\space births\\space /\\space month$$\n",
    "\n",
    "$$k_2 = 0.04\\space dinosaur\\space births\\space /\\space month$$\n",
    "\n",
    "$$k_3 = 0.001\\space tiger\\space deaths\\space /\\space month$$\n",
    "\n",
    "$$k_4 = 0.0055\\space dinosaur\\space deaths\\space /\\space month$$\n",
    "\n",
    "$$T_0 = 22\\space tigers$$\n",
    "\n",
    "$$D_0 = 78\\space dinosaurs$$\n",
    "\n",
    "After an Insight Maker model for this system for 48 months was implemented, two test cases were conducted. As a first test of the model, we assume that death rates are zero, and the results was verified the model against the\n",
    "analytical solutions (derived above). Different settings were explored and explained. \n",
    "\n",
    "As a second test, the equilibrium values for the system described above using the nonzero death rates that was gaven. The results was plotted and explained.\n",
    "\n",
    "\n"
   ]
  },
  {
   "cell_type": "markdown",
   "metadata": {},
   "source": [
    "## Results and Outputs"
   ]
  },
  {
   "cell_type": "markdown",
   "metadata": {
    "ExecuteTime": {
     "end_time": "2021-07-16T19:58:22.837778Z",
     "start_time": "2021-07-16T19:58:22.825387Z"
    }
   },
   "source": [
    " ### Derivation of Equalibrium Values\n",
    " \n",
    "When we get equilibrium values, we have $T = T_{n+1} = T_n$, and $D = D_{n+1} = D_n$. Plugging into the systems above, we have\n",
    "\n",
    "$$T = (1+k_1)T - k_3TD$$\n",
    "\n",
    "$$D = (1+k_2)D - k_4TD$$\n",
    "\n",
    "or \n",
    "\n",
    "$$0 = k_1T - k_3TD = T(k_1 - k_3D)$$\n",
    "\n",
    "$$0 = k_2D - k_4TD = D(k_2 - k_4T)$$\n",
    "\n",
    "The first equation indicates that there is no change in the Tiger population if T = 0 or D = $k_1 / k_3$. The second equation indicates that there is no change in the Dinosaur population if D = 0 or T = $k_2 / k_4$\n"
   ]
  },
  {
   "cell_type": "markdown",
   "metadata": {},
   "source": [
    "### Derivation of Analytical Solution assuming death rate is 0\n",
    "\n",
    "$$\\frac{dT}{dt} = k_1T - k_3TD$$\n",
    "\n",
    "$$\\frac{dD}{dt} = k_2D - k_4TD$$\n",
    "\n",
    "when k_3 = k_4 = 0, we will have\n",
    "\n",
    "\n",
    "$$\\frac{dT}{dt} = k_1T$$\n",
    "\n",
    "$$\\frac{dD}{dt} = k_2D$$\n",
    "\n",
    "By rearranging the equations, we get\n",
    "\n",
    "\n",
    "$$\\frac{dT}{T} = k_1dt$$\n",
    "\n",
    "$$\\frac{dD}{D} = k_2dt$$\n",
    "\n",
    "Integrating both sides, \n",
    "\n",
    "$$\\int \\frac{dT}{T}  = \\int k_1dt$$\n",
    "\n",
    "$$\\int \\frac{dD}{D} = \\int k_2dt$$\n",
    "\n",
    "We get\n",
    "\n",
    "$$ln|T| = k_1t + C_T$$\n",
    "\n",
    "$$ln|D| = k_2t + C_D$$\n",
    "\n",
    "Finally,\n",
    "\n",
    "$$T = T_0e^{k_1t}$$\n",
    "\n",
    "$$D = D_0e^{k_2t}$$\n",
    "\n",
    "where $T_0$, $D_0$ is the initial value of Tigers and Dinosaurs. "
   ]
  },
  {
   "cell_type": "markdown",
   "metadata": {},
   "source": [
    "### Insight Maker Results\n",
    "\n",
    "#### Model Schematic\n",
    "\n",
    "![model schematic](tiger_model.png)\n",
    "\n",
    "Figure 1 Model Schematic Plot\n",
    "\n",
    "#### Initial test case results\n",
    "\n",
    "![initial results](tiger_48months_initial_results_sight_maker.png)\n",
    "\n",
    "Figure 2 Initial Test Results\n",
    "\n",
    "We can see from the results that although dinosaurs started with a higher initial numbers it is less competitive in the system in a long-term. The number of dinosaurs decreased much quicker than the population of tigers. It is approximately in a exponential decay. On the other hand, the number of tiger decreased slightly at the beginning then it started to increase. "
   ]
  },
  {
   "cell_type": "markdown",
   "metadata": {},
   "source": [
    "#### A first test and exploration of the model (death rate is zero)\n",
    "\n",
    "The analytical solution is\n",
    "\n",
    "$$T = T_0e^{k_1t} = 22 e^{0.022 * 48} = 63$$\n",
    "\n",
    "$$D = D_0e^{k_2t} = 78 e^{0.001 * 48} = 532$$\n",
    "\n",
    "\n",
    "Results from Insight Maker:\n",
    "\n",
    "![zero death](zero_death.png)\n",
    "\n",
    "Figure 3 Zero Death Rate Results\n",
    "\n",
    "![zero death tiger](tigers_48months_zero_death.png)\n",
    "\n",
    "Figure 4 Num of Tigers from Insight Maker using Fast(Euler) method\n",
    "\n",
    "![zero death dinosaur](dinosaur_48months_zero_death.png)\n",
    "\n",
    "Figure 5 Num of Dinosaurs from Insight Maker using Fast(Euler) method\n",
    "\n",
    "![zero death tiger rk4](tigers_48months_zero_death_rk4.png)\n",
    "\n",
    "Figure 6 Num of Tigers from Insight Maker using Accurate(RK4)\n",
    "\n",
    "![zero death dinosaur rk4](dinosaur_48months_zero_death_rk4.png)\n",
    "\n",
    "Figure 7 Num of Dinosaurs from Insight Maker using Accurate(RK4)\n",
    "\n",
    "The results of zero death rate shows that both number of tigers and dinosaurs increase exponentially. Dinasaurs increase more quickly due to its higher birth ratte. The numbers from Insight Maker from the first round is close to the analytical method but not exactly the same. After I checked the options in the settings, I found the default method is `Fast(Eular)` which explains why there is a bit off from the analytical solution. The numbers from the `Accurate(RK4)` method matches the analytical solution well but the computation speed is slower than the `Fast(Eular)` methd. I will consider this in the future. "
   ]
  },
  {
   "cell_type": "markdown",
   "metadata": {
    "ExecuteTime": {
     "end_time": "2021-07-16T03:24:26.279445Z",
     "start_time": "2021-07-16T03:24:26.274476Z"
    }
   },
   "source": [
    "#### A second test, looking for equilibrium values\n",
    "\n",
    "The equilibrium points are\n",
    "\n",
    "$$D =  \\frac{𝑘_1}{𝑘_3} = \\frac{0.022}{0.001} = 22$$\n",
    "\n",
    "$$T =  \\frac{𝑘_2}{𝑘_4} = \\frac{0.04}{0.0055} = 7.2727272727273 \\approx 7$$\n",
    "\n",
    "\n",
    "Therefore, Two equilibrium conditions are Dinosaurs = 22, Tigers = 7. \n",
    "\n",
    "![equilibrium](equili_tiger_dino.png)\n",
    "\n",
    "Figure 8 Results of Equilibiurm points using exact numbers\n",
    "\n",
    "![equilibrium 7](equili_tiger_dino_approx_7.png)\n",
    "\n",
    "Figure 9 Results of Equilibiurm points using approximate integer numbers\n",
    "\n",
    "Dinosaurs and Tigers will be equilibrated at 22 dinosaurs and 7 tigers. Although the equilibrium point will be broken after 48 months it is still the best values we can get. If we use the exact value solving the equilbrium equations, the equilibrium condition will remain forever. We can see that very sensitive to the initil values. \n",
    "\n"
   ]
  },
  {
   "cell_type": "markdown",
   "metadata": {},
   "source": [
    "The output shows the rabbit population would increase exponentially when the birth rate is larger than death rate. "
   ]
  },
  {
   "cell_type": "markdown",
   "metadata": {},
   "source": [
    "## Summary \n",
    "\n",
    "We can see from the results that although dinosaurs started with a higher initial numbers it is less competitive in the system in a long-term. The number of dinosaurs decreased much quicker than the population of tigers. It is approximately in a exponential decay. On the other hand, the number of tiger decreased slightly at the beginning then it started to increase.\n",
    "\n",
    "The results of zero death rate shows that both number of tigers and dinosaurs increase exponentially. Dinasaurs increase more quickly due to its higher birth ratte. The numbers from Insight Maker from the first round is close to the analytical method but not exactly the same. After I checked the options in the settings, I found the default method is Fast(Eular) which explains why there is a bit off from the analytical solution. The numbers from the Accurate(RK4) method matches the analytical solution well but the computation speed is slower than the Fast(Eular) methd. I will consider this in the future.\n",
    "\n",
    "The results of zero death rate shows that both number of tigers and dinosaurs increase exponentially. Dinasaurs increase more quickly due to its higher birth ratte. The numbers from Insight Maker from the first round is close to the analytical method but not exactly the same. After I checked the options in the settings, I found the default method is Fast(Eular) which explains why there is a bit off from the analytical solution. The numbers from the Accurate(RK4) method matches the analytical solution well but the computation speed is slower than the Fast(Eular) methd. I will consider this in the future.\n"
   ]
  },
  {
   "cell_type": "markdown",
   "metadata": {},
   "source": [
    "## References\n",
    "[1]Frank R. Giordano, William P. Fox, Steven B. Horton, A First Course in Mathematical Modeling, 5th Edition, 2013, p44\n"
   ]
  },
  {
   "cell_type": "code",
   "execution_count": null,
   "metadata": {},
   "outputs": [],
   "source": []
  }
 ],
 "metadata": {
  "kernelspec": {
   "display_name": "Python 3",
   "language": "python",
   "name": "python3"
  },
  "language_info": {
   "codemirror_mode": {
    "name": "ipython",
    "version": 3
   },
   "file_extension": ".py",
   "mimetype": "text/x-python",
   "name": "python",
   "nbconvert_exporter": "python",
   "pygments_lexer": "ipython3",
   "version": "3.7.6"
  },
  "latex_envs": {
   "LaTeX_envs_menu_present": true,
   "autoclose": true,
   "autocomplete": true,
   "bibliofile": "biblio.bib",
   "cite_by": "apalike",
   "current_citInitial": 1,
   "eqLabelWithNumbers": true,
   "eqNumInitial": 1,
   "hotkeys": {
    "equation": "Ctrl-E",
    "itemize": "Ctrl-I"
   },
   "labels_anchors": false,
   "latex_user_defs": false,
   "report_style_numbering": false,
   "user_envs_cfg": false
  },
  "toc": {
   "base_numbering": 1,
   "nav_menu": {},
   "number_sections": true,
   "sideBar": true,
   "skip_h1_title": true,
   "title_cell": "Table of Contents",
   "title_sidebar": "Contents",
   "toc_cell": true,
   "toc_position": {},
   "toc_section_display": true,
   "toc_window_display": false
  },
  "varInspector": {
   "cols": {
    "lenName": 16,
    "lenType": 16,
    "lenVar": 40
   },
   "kernels_config": {
    "python": {
     "delete_cmd_postfix": "",
     "delete_cmd_prefix": "del ",
     "library": "var_list.py",
     "varRefreshCmd": "print(var_dic_list())"
    },
    "r": {
     "delete_cmd_postfix": ") ",
     "delete_cmd_prefix": "rm(",
     "library": "var_list.r",
     "varRefreshCmd": "cat(var_dic_list()) "
    }
   },
   "types_to_exclude": [
    "module",
    "function",
    "builtin_function_or_method",
    "instance",
    "_Feature"
   ],
   "window_display": false
  }
 },
 "nbformat": 4,
 "nbformat_minor": 2
}
