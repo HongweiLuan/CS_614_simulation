{
 "cells": [
  {
   "cell_type": "markdown",
   "metadata": {
    "toc": true
   },
   "source": [
    "<h1>Table of Contents<span class=\"tocSkip\"></span></h1>\n",
    "<div class=\"toc\"><ul class=\"toc-item\"><li><span><a href=\"#Abstract\" data-toc-modified-id=\"Abstract-1\"><span class=\"toc-item-num\">1&nbsp;&nbsp;</span>Abstract</a></span></li><li><span><a href=\"#Introduction\" data-toc-modified-id=\"Introduction-2\"><span class=\"toc-item-num\">2&nbsp;&nbsp;</span>Introduction</a></span></li><li><span><a href=\"#Methods\" data-toc-modified-id=\"Methods-3\"><span class=\"toc-item-num\">3&nbsp;&nbsp;</span>Methods</a></span></li><li><span><a href=\"#Results-and-Outputs\" data-toc-modified-id=\"Results-and-Outputs-4\"><span class=\"toc-item-num\">4&nbsp;&nbsp;</span>Results and Outputs</a></span><ul class=\"toc-item\"><li><span><a href=\"#Verification-of-equal-birth-rate-and-death-rate\" data-toc-modified-id=\"Verification-of-equal-birth-rate-and-death-rate-4.1\"><span class=\"toc-item-num\">4.1&nbsp;&nbsp;</span>Verification of equal birth rate and death rate</a></span></li><li><span><a href=\"#Rabbit-Model-Output\" data-toc-modified-id=\"Rabbit-Model-Output-4.2\"><span class=\"toc-item-num\">4.2&nbsp;&nbsp;</span>Rabbit Model Output</a></span></li></ul></li><li><span><a href=\"#Summary\" data-toc-modified-id=\"Summary-5\"><span class=\"toc-item-num\">5&nbsp;&nbsp;</span>Summary</a></span></li><li><span><a href=\"#References\" data-toc-modified-id=\"References-6\"><span class=\"toc-item-num\">6&nbsp;&nbsp;</span>References</a></span></li></ul></div>"
   ]
  },
  {
   "cell_type": "markdown",
   "metadata": {
    "ExecuteTime": {
     "end_time": "2020-04-25T02:53:36.034556Z",
     "start_time": "2020-04-25T02:53:36.030455Z"
    }
   },
   "source": [
    "CISC-614-Assignment-2-Insight-Maker\n",
    "===\n",
    "* **Hongwei Luan**\n",
    "* **Jul 17, 2021**\n",
    "\n",
    "---"
   ]
  },
  {
   "cell_type": "markdown",
   "metadata": {},
   "source": [
    "## Abstract\n",
    "\n",
    "Insight Maker is a power simulation tool. In this report, we demonstrated a simple rabbit population model using Insight Maker. One stock was used for rabbit population and one incoming flow for birth rate, the other for death rate.  The model was verified by the equal birth rate and death rate case. The verification case has the results as expected. The total rabbit population remains the same as the initial 100. The output shows the rabbit population would increase exponentially when the birth rate is larger than death rate. The most important lesson learned from this exercise is that we need to understand the concepts of stock and flow first before we create the insight and run the model."
   ]
  },
  {
   "cell_type": "markdown",
   "metadata": {
    "ExecuteTime": {
     "end_time": "2020-04-25T02:54:27.373393Z",
     "start_time": "2020-04-25T02:54:27.371135Z"
    }
   },
   "source": [
    "## Introduction\n",
    "\n",
    "Insight Maker is a power simulation tool which can create a conceptual map of any insight and convert it into a full simulation model. In this report, we will create a simple rabbit population model. \n",
    "\n",
    "The rabbit population model has rabbit community as a stock with an initial population of 100 rabbits. There is one incoming flow controlling the birth rate and one outcoming flow controlling the death rate. The model schematic diagram is shown below. \n",
    "\n",
    "In this report, we will validate the rabbit population model and look at the simulation results. "
   ]
  },
  {
   "cell_type": "markdown",
   "metadata": {
    "ExecuteTime": {
     "end_time": "2020-04-25T02:55:10.127410Z",
     "start_time": "2020-04-25T02:55:10.125286Z"
    }
   },
   "source": [
    "## Methods\n",
    "\n",
    "In this study, a simple rabbit population model was created and validated by simple cases. The model schematic was shown in Figure 1. \n",
    "\n",
    "![Figure 1](model_rabbit.png)\n",
    "\n",
    "First, we verificed the rabbit population model by making birth rate and death rate the same:\n",
    "\n",
    "$$birth\\space rate = 0.2 * [rabbit\\space population]$$\n",
    "$$death\\space rate = 0.2 * [rabbit\\space population]$$\n",
    "\n",
    "The total population of rabbit in the stock should remain the same.\n",
    "\n",
    "Sconed, the rabbit population was simulated at the situation where \n",
    "\n",
    "$$birth\\space rate = 0.2 * [rabbit\\space population]$$\n",
    "$$death\\space rate = 0.1 * [rabbit\\space population]$$\n",
    "\n",
    "![Figure 2](birth02.png)![Figure 3](death01.png)\n",
    "\n",
    "The total population of rabbit in the stock should increase exponentially. The results was plotted and compared with our assumption.   \n"
   ]
  },
  {
   "cell_type": "markdown",
   "metadata": {},
   "source": [
    "## Results and Outputs"
   ]
  },
  {
   "cell_type": "markdown",
   "metadata": {
    "ExecuteTime": {
     "end_time": "2021-07-16T19:58:22.837778Z",
     "start_time": "2021-07-16T19:58:22.825387Z"
    }
   },
   "source": [
    "### Verification of equal birth rate and death rate"
   ]
  },
  {
   "cell_type": "markdown",
   "metadata": {},
   "source": [
    "![Equal ase](equal_case.png)"
   ]
  },
  {
   "cell_type": "markdown",
   "metadata": {},
   "source": [
    "The equal birth rate and death rate case has the results as expected. The total rabbit population remains the same as the initial 100. "
   ]
  },
  {
   "cell_type": "markdown",
   "metadata": {
    "ExecuteTime": {
     "end_time": "2021-07-16T03:24:26.279445Z",
     "start_time": "2021-07-16T03:24:26.274476Z"
    }
   },
   "source": [
    "### Rabbit Model Output\n",
    "\n",
    "![rabbit model output](rabbit_output.png)"
   ]
  },
  {
   "cell_type": "markdown",
   "metadata": {},
   "source": [
    "The output shows the rabbit population would increase exponentially when the birth rate is larger than death rate. "
   ]
  },
  {
   "cell_type": "markdown",
   "metadata": {},
   "source": [
    "## Summary \n",
    "\n",
    "A rabbit population model was created using Insight Maker. The model was verified by the equal birth rate and death rate case. The verification case has the results as expected. The total rabbit population remains the same as the initial 100. The output shows the rabbit population would increase exponentially when the birth rate is larger than death rate.\n",
    "\n",
    "The most important lesson learned from this exercise is that we need to understand the concepts of stock and flow first before we create the insight and run the model. "
   ]
  },
  {
   "cell_type": "markdown",
   "metadata": {},
   "source": [
    "## References\n",
    "[1]Insight Maker Documentation, https://insightmaker.com/stocks\n"
   ]
  },
  {
   "cell_type": "code",
   "execution_count": null,
   "metadata": {},
   "outputs": [],
   "source": []
  }
 ],
 "metadata": {
  "kernelspec": {
   "display_name": "Python 3",
   "language": "python",
   "name": "python3"
  },
  "language_info": {
   "codemirror_mode": {
    "name": "ipython",
    "version": 3
   },
   "file_extension": ".py",
   "mimetype": "text/x-python",
   "name": "python",
   "nbconvert_exporter": "python",
   "pygments_lexer": "ipython3",
   "version": "3.7.6"
  },
  "latex_envs": {
   "LaTeX_envs_menu_present": true,
   "autoclose": true,
   "autocomplete": true,
   "bibliofile": "biblio.bib",
   "cite_by": "apalike",
   "current_citInitial": 1,
   "eqLabelWithNumbers": true,
   "eqNumInitial": 1,
   "hotkeys": {
    "equation": "Ctrl-E",
    "itemize": "Ctrl-I"
   },
   "labels_anchors": false,
   "latex_user_defs": false,
   "report_style_numbering": false,
   "user_envs_cfg": false
  },
  "toc": {
   "base_numbering": 1,
   "nav_menu": {},
   "number_sections": true,
   "sideBar": true,
   "skip_h1_title": true,
   "title_cell": "Table of Contents",
   "title_sidebar": "Contents",
   "toc_cell": true,
   "toc_position": {},
   "toc_section_display": true,
   "toc_window_display": false
  },
  "varInspector": {
   "cols": {
    "lenName": 16,
    "lenType": 16,
    "lenVar": 40
   },
   "kernels_config": {
    "python": {
     "delete_cmd_postfix": "",
     "delete_cmd_prefix": "del ",
     "library": "var_list.py",
     "varRefreshCmd": "print(var_dic_list())"
    },
    "r": {
     "delete_cmd_postfix": ") ",
     "delete_cmd_prefix": "rm(",
     "library": "var_list.r",
     "varRefreshCmd": "cat(var_dic_list()) "
    }
   },
   "types_to_exclude": [
    "module",
    "function",
    "builtin_function_or_method",
    "instance",
    "_Feature"
   ],
   "window_display": false
  }
 },
 "nbformat": 4,
 "nbformat_minor": 2
}
