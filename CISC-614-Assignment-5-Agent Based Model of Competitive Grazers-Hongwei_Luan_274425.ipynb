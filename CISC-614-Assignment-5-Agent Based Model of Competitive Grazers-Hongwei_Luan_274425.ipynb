{
 "cells": [
  {
   "cell_type": "markdown",
   "metadata": {
    "toc": true
   },
   "source": [
    "<h1>Table of Contents<span class=\"tocSkip\"></span></h1>\n",
    "<div class=\"toc\"><ul class=\"toc-item\"><li><span><a href=\"#Abstract\" data-toc-modified-id=\"Abstract-1\"><span class=\"toc-item-num\">1&nbsp;&nbsp;</span>Abstract</a></span></li><li><span><a href=\"#Introduction\" data-toc-modified-id=\"Introduction-2\"><span class=\"toc-item-num\">2&nbsp;&nbsp;</span>Introduction</a></span></li><li><span><a href=\"#Methods\" data-toc-modified-id=\"Methods-3\"><span class=\"toc-item-num\">3&nbsp;&nbsp;</span>Methods</a></span></li><li><span><a href=\"#Results-and-Outputs\" data-toc-modified-id=\"Results-and-Outputs-4\"><span class=\"toc-item-num\">4&nbsp;&nbsp;</span>Results and Outputs</a></span><ul class=\"toc-item\"><li><span><a href=\"#Create-competitive-grazer-model-in-NetLogo\" data-toc-modified-id=\"Create-competitive-grazer-model-in-NetLogo-4.1\"><span class=\"toc-item-num\">4.1&nbsp;&nbsp;</span>Create competitive grazer model in NetLogo</a></span></li><li><span><a href=\"#Verification-Cases\" data-toc-modified-id=\"Verification-Cases-4.2\"><span class=\"toc-item-num\">4.2&nbsp;&nbsp;</span>Verification Cases</a></span><ul class=\"toc-item\"><li><span><a href=\"#Cow-has-higher-reproduce-rate\" data-toc-modified-id=\"Cow-has-higher-reproduce-rate-4.2.1\"><span class=\"toc-item-num\">4.2.1&nbsp;&nbsp;</span>Cow has higher reproduce rate</a></span></li><li><span><a href=\"#Moose-has-higher-reproduce-rate\" data-toc-modified-id=\"Moose-has-higher-reproduce-rate-4.2.2\"><span class=\"toc-item-num\">4.2.2&nbsp;&nbsp;</span>Moose has higher reproduce rate</a></span></li><li><span><a href=\"#Equilibrium-or-Non-crashing-Exploration\" data-toc-modified-id=\"Equilibrium-or-Non-crashing-Exploration-4.2.3\"><span class=\"toc-item-num\">4.2.3&nbsp;&nbsp;</span>Equilibrium or Non-crashing Exploration</a></span></li></ul></li></ul></li><li><span><a href=\"#Summary\" data-toc-modified-id=\"Summary-5\"><span class=\"toc-item-num\">5&nbsp;&nbsp;</span>Summary</a></span></li><li><span><a href=\"#References\" data-toc-modified-id=\"References-6\"><span class=\"toc-item-num\">6&nbsp;&nbsp;</span>References</a></span></li></ul></div>"
   ]
  },
  {
   "cell_type": "markdown",
   "metadata": {
    "ExecuteTime": {
     "end_time": "2020-04-25T02:53:36.034556Z",
     "start_time": "2020-04-25T02:53:36.030455Z"
    }
   },
   "source": [
    "CISC-614-Assignment-5-Agent Based Model of Competitive Grazers\n",
    "===\n",
    "* **Hongwei Luan**\n",
    "* **Jul 31, 2021**\n",
    "\n",
    "---"
   ]
  },
  {
   "cell_type": "markdown",
   "metadata": {},
   "source": [
    "## Abstract\n",
    "\n",
    "Agent-based model is used to simulate actions and interactions of autonomous agens. In this report, an agent-based model of moose-cow-grass competitive condition was implemented and evaluated using NetLogo. The model from NetLogo was verified by two simple cases. Finally, the values in the sliders was experimented to find a populations of either species or the grass from crashing. Intuitively, the system will be at equilibrium when the reproduce rate of two species are similar or the same. Therefore, the reproduce rates of two species were varied while other parameters remained the same. When the reproduce rates of two species equal 1, the system was most stable and almost at equilibrium after 500 or 1000 epochs. The number of cows and mooses were equalibrated at 1200 and 900 respectively. The number of mooses was increased exponentially at the beginning perhaps due to the larger initial numbers and less energy spent every move. Other reproduce rates were tested but they didn't yield a stable results at the end.\n",
    "\n"
   ]
  },
  {
   "cell_type": "markdown",
   "metadata": {
    "ExecuteTime": {
     "end_time": "2020-04-25T02:54:27.373393Z",
     "start_time": "2020-04-25T02:54:27.371135Z"
    }
   },
   "source": [
    "## Introduction\n",
    "\n",
    "In this report we will investigate agent based model of competitive grazers. \n",
    "\n",
    "Agent-based model (ABM), also known as multi-agent system (MAS), if the agent is heterogeneous, it is called heterogeneous agent model (HAM) ) Is a computational model used to simulate the actions and interactions of autonomous agents (independent individuals or common groups, such as organizations, teams), and evaluate the role of agents in the overall system through image display. It combines some other ideas, such as game theory, complex systems, emergence, computational sociology, multi-agent systems, and evolutionary computing. The Monte Carlo method is used to generate randomness[1].\n",
    "\n"
   ]
  },
  {
   "cell_type": "markdown",
   "metadata": {
    "ExecuteTime": {
     "end_time": "2020-04-25T02:55:10.127410Z",
     "start_time": "2020-04-25T02:55:10.125286Z"
    }
   },
   "source": [
    "## Methods\n",
    "\n",
    "![sample model](sample_model_cisc_5.png)\n",
    "Figure 1 Sample Model Diagram\n",
    "\n",
    "In this study, we need to creat the critters model first in terms of the requirements below: \n",
    "* Create moose and cows and set their shapes to moose and cow.  \n",
    "* Set moose to one colour and cows to another colour, easily distinguishable from each other.\n",
    "* You might also consider increasing their sizes (the screenshots in this document were done with a size of 1.5)\n",
    "* The initial energy for both breeds should be 50 units\n",
    "* The number of initial moose and cows should be set through sliders (see the figure)\n",
    "* When a moose moves, it should use 2 units of energy\n",
    "* When a cow moves, it should use 3 units of energy\n",
    "* Both species, when they eat a patch of grass, should gain 10 units of energy\n",
    "* Cows and moose should reproduce when they have over 50 units of energy, but the number that they hatch should be set with sliders (see figure 1)\n",
    "* Both cows and moose should die if their energy level gets down to 0 units\n",
    "* Use a slider to set the grass regrowth rate\n",
    "* with your name in it.\n",
    "\n",
    "After we create the model, as always, we will come up with several “extreme” tests and verify that the model behaves as expected. \n",
    "\n",
    "Finally, the values were experimented the sliders that will, at least for a while, tend to keep populations of either species or the grass from crashing (getting down to zero), and report on your attempts\n",
    "\n",
    "\n"
   ]
  },
  {
   "cell_type": "markdown",
   "metadata": {},
   "source": [
    "## Results and Outputs"
   ]
  },
  {
   "cell_type": "markdown",
   "metadata": {
    "ExecuteTime": {
     "end_time": "2021-07-16T19:58:22.837778Z",
     "start_time": "2021-07-16T19:58:22.825387Z"
    }
   },
   "source": [
    "### Create competitive grazer model in NetLogo\n",
    " \n",
    "![cow_moose_grass_netlogo](cow_moose_grass_netlogo.png)\n",
    "Figure 2 Cow-Mosse-Grass Model Interface in NetLogo\n",
    "\n",
    "The model interface was demonstrated in Figure 2. All initial number of cows and mooses, grass regrowth rate, energy gain from food, and reproduce rate of cow and moose can be adjusted in sliders. The energy status of each grazer can be monitored in the simulation window optionally. The number of cows, mooses, and grass were monitored using line plot as well. \n",
    "\n",
    "The code of mode implementation was listed below. Each step was accompnied by explanation.\n",
    "\n",
    "    globals [ max-cow ]  ; don't let the cow population grow too large\n",
    "\n",
    "    ; Cows and Mooses are both breeds of turtles\n",
    "    breed [ cows cow ]  \n",
    "    breed [ mooses moose ]\n",
    "\n",
    "    turtles-own [ energy ]       ; both cows and mooses have energy\n",
    "\n",
    "    patches-own [ countdown ]    ;\n",
    "\n",
    "    to setup\n",
    "      clear-all\n",
    "      ifelse netlogo-web? [ set max-cow 10000 ] [ set max-cow 30000 ]\n",
    "\n",
    "      ; otherwise each grass' state of growth and growing logic need to be set up\n",
    "      ask patches [\n",
    "        set pcolor one-of [ green brown ]\n",
    "        ifelse pcolor = green\n",
    "          [ set countdown grass-regrowth-time ]\n",
    "        [ set countdown random grass-regrowth-time ] ; initialize grass regrowth clocks randomly for brown patches\n",
    "      ]\n",
    "\n",
    "      create-cows initial-number-cows  ; create the cows, then initialize their variables\n",
    "      [\n",
    "        set shape \"cow\"\n",
    "        set color white\n",
    "        set size 1.5  ; easier to see\n",
    "        set label-color blue - 2\n",
    "        set energy 50\n",
    "        setxy random-xcor random-ycor\n",
    "      ]\n",
    "\n",
    "      create-mooses initial-number-mooses  ; create the mooses, then initialize their variables\n",
    "      [\n",
    "        set shape \"moose\"\n",
    "        set color black\n",
    "        set size 2  ; easier to see\n",
    "        set energy 50\n",
    "        setxy random-xcor random-ycor\n",
    "      ]\n",
    "      display-labels\n",
    "      reset-ticks\n",
    "    end\n",
    "\n",
    "    to go\n",
    "      ; stop the model if there are no mooses and no cow\n",
    "      if not any? turtles [ stop ]\n",
    "      ; stop the model if there are no mooses and the number of cows gets very large\n",
    "      if not any? cows and count cows > max-cow [ user-message \"The cows have inherited the earth\" stop ]\n",
    "      ; stop the model if there are no cows and the number of cow gets very large\n",
    "      if not any? cows and count cows > max-cow [ user-message \"The cows have inherited the earth\" stop ]\n",
    "      ask cows [\n",
    "        move\n",
    "        ; in this version, cow eat grass, grass grows, and it costs cows energy to move\n",
    "        set energy energy - 3  ; deduct energy for cows\n",
    "        eat-grass-cow  ; cow eat grass\n",
    "        death ; cow die from starvation\n",
    "\n",
    "        reproduce-cow  ; cow reproduce at a random rate governed by a slider\n",
    "      ]\n",
    "      ask mooses [\n",
    "        move\n",
    "        set energy energy - 2  ; moose lose energy as they move\n",
    "        eat-grass-moose  ; moose eat grass\n",
    "        death ; moose die if they run out of energy\n",
    "        reproduce-moose ; moose reproduce at a random rate governed by a slider\n",
    "      ]\n",
    "\n",
    "      ask patches [ grow-grass ]\n",
    "\n",
    "      tick\n",
    "      display-labels\n",
    "    end\n",
    "\n",
    "    to move  ; turtle procedure\n",
    "      rt random 50\n",
    "      lt random 50\n",
    "      fd 1\n",
    "    end\n",
    "\n",
    "    to eat-grass-cow  \n",
    "      ; cow and moost eat grass and turn the patch brown\n",
    "      if pcolor = green [\n",
    "        set pcolor brown\n",
    "        set energy energy + cow-gain-from-food  ; cow gain energy by eating\n",
    "      ]\n",
    "    end\n",
    "\n",
    "    to eat-grass-moose\n",
    "      ; cow and moost eat grass and turn the patch brown\n",
    "      if pcolor = green [\n",
    "        set pcolor brown\n",
    "        set energy energy + moose-gain-from-food  ; moose gain energy by eating\n",
    "      ]\n",
    "    end\n",
    "\n",
    "    to reproduce-cow  ; cow procedure\n",
    "      if energy > 50 [  ; reproduce when they have over 50 units of energy\n",
    "        set energy (energy / 2)                ; divide energy between parent and offspring\n",
    "        hatch cow-reproduce [ rt random-float 360 fd 1 ]   ; hatch offsprings based on reproduce number and move it forward 1 step\n",
    "      ]\n",
    "    end\n",
    "\n",
    "    to reproduce-moose  ; moose procedure\n",
    "      if energy > 50 [  ; reproduce when they have over 50 units of energy\n",
    "        set energy (energy / 2)               ; divide energy between parent and offspring\n",
    "        hatch moose-reproduce [ rt random-float 360 fd 1 ]  ; hatch an offspring and move it forward 1 step\n",
    "      ]\n",
    "    end\n",
    "\n",
    "    to death  ; turtle procedure (i.e. both cow and moose procedure)\n",
    "      ; when energy dips below zero, die\n",
    "      if energy < 0 [ die ]\n",
    "    end\n",
    "\n",
    "    to grow-grass  ; patch procedure\n",
    "      ; countdown on brown patches: if you reach 0, grow some grass\n",
    "      if pcolor = brown [\n",
    "        ifelse countdown <= 0\n",
    "          [ set pcolor green\n",
    "            set countdown grass-regrowth-time ]\n",
    "          [ set countdown countdown - 1 ]\n",
    "      ]\n",
    "    end\n",
    "\n",
    "    to-report grass\n",
    "        report patches with [pcolor = green]\n",
    "    end\n",
    "\n",
    "\n",
    "    to display-labels\n",
    "      ask turtles [ set label \"\" ]\n",
    "      if show-energy? [\n",
    "        ask cows [ set label round energy ]\n",
    "        ask mooses [ set label round energy ]\n",
    "      ]\n",
    "    end\n"
   ]
  },
  {
   "cell_type": "markdown",
   "metadata": {},
   "source": [
    "### Verification Cases\n",
    "\n",
    "#### Cow has higher reproduce rate\n",
    "\n",
    "For the first verification case, the reproduce rate of cow was set to 5 while that of moose was set to 1. Cows was dominated the grass very quickly shown in Figure 2 below although moose has higher initial value. \n",
    "\n",
    "![higher cow reporoce rate](cow_higher_verification_case.png)\n",
    "Figure 3 Higher Cow Reproduce Rate Verification Case"
   ]
  },
  {
   "cell_type": "markdown",
   "metadata": {},
   "source": [
    "#### Moose has higher reproduce rate\n",
    "\n",
    "For the second verification case, the reproduce rate of moose was set to 5 while that of cow was set to 1. Moose was dominated the grass very quickly shown in Figure 3 below. Therefore, the model was verified for the cow-moose-grass model. \n",
    "\n",
    "![higher moose reporoce rate](moose_higher.png)\n",
    "Figure 4 Higher Moose Reproduce Rate Verification Case"
   ]
  },
  {
   "cell_type": "markdown",
   "metadata": {},
   "source": [
    "#### Equilibrium or Non-crashing Exploration\n",
    "\n",
    "Finally, the values in the sliders was experimented to find a populations of either species or the grass from crashing. Intuitively, the system will be at equilibrium when the reproduce rate of two species are similar or the same. Therefore, the reproduce rates of two species were varied while other parameters remained the same. When the reproduce rates of two species equal 1, the system was most stable and almost at equilibrium after 500 or 1000 epochs. The number of cows and mooses were equalibrated at 1200 and 900 respectively. The number of mooses was increased exponentially at the beginning perhaps due to the larger initial numbers and less energy spent every move. Other reproduce rates were tested but they didn't yield a stable results at the end. \n",
    "\n",
    "![reproduce_1](reproduce_1_cow_moose.png)\n",
    "\n",
    "Figure 5 Equilibrium condition when reproduce rate of two species equal 1"
   ]
  },
  {
   "cell_type": "markdown",
   "metadata": {},
   "source": [
    "## Summary \n",
    "\n",
    "The model from NetLogo was verified by two simple cases.\n",
    "\n",
    "Finally, the values in the sliders was experimented to find a populations of either species or the grass from crashing. Intuitively, the system will be at equilibrium when the reproduce rate of two species are similar or the same. Therefore, the reproduce rates of two species were varied while other parameters remained the same. When the reproduce rates of two species equal 1, the system was most stable and almost at equilibrium after 500 or 1000 epochs. The number of cows and mooses were equalibrated at 1200 and 900 respectively. The number of mooses was increased exponentially at the beginning perhaps due to the larger initial numbers and less energy spent every move. Other reproduce rates were tested but they didn't yield a stable results at the end. \n",
    "\n",
    "NetLogo is really helpful and interesting for simulation work. Look forward to more experiments.\n"
   ]
  },
  {
   "cell_type": "markdown",
   "metadata": {},
   "source": [
    "## References\n",
    "[1]Wikipedia contributors, \"Agent-based_model\", (accessed 31 Jul 2021), https://en.wikipedia.org/wiki/Agent-based_model"
   ]
  },
  {
   "cell_type": "code",
   "execution_count": null,
   "metadata": {},
   "outputs": [],
   "source": []
  }
 ],
 "metadata": {
  "kernelspec": {
   "display_name": "Python 3",
   "language": "python",
   "name": "python3"
  },
  "language_info": {
   "codemirror_mode": {
    "name": "ipython",
    "version": 3
   },
   "file_extension": ".py",
   "mimetype": "text/x-python",
   "name": "python",
   "nbconvert_exporter": "python",
   "pygments_lexer": "ipython3",
   "version": "3.7.6"
  },
  "latex_envs": {
   "LaTeX_envs_menu_present": true,
   "autoclose": true,
   "autocomplete": true,
   "bibliofile": "biblio.bib",
   "cite_by": "apalike",
   "current_citInitial": 1,
   "eqLabelWithNumbers": true,
   "eqNumInitial": 1,
   "hotkeys": {
    "equation": "Ctrl-E",
    "itemize": "Ctrl-I"
   },
   "labels_anchors": false,
   "latex_user_defs": false,
   "report_style_numbering": false,
   "user_envs_cfg": false
  },
  "toc": {
   "base_numbering": 1,
   "nav_menu": {},
   "number_sections": true,
   "sideBar": true,
   "skip_h1_title": true,
   "title_cell": "Table of Contents",
   "title_sidebar": "Contents",
   "toc_cell": true,
   "toc_position": {},
   "toc_section_display": true,
   "toc_window_display": false
  },
  "varInspector": {
   "cols": {
    "lenName": 16,
    "lenType": 16,
    "lenVar": 40
   },
   "kernels_config": {
    "python": {
     "delete_cmd_postfix": "",
     "delete_cmd_prefix": "del ",
     "library": "var_list.py",
     "varRefreshCmd": "print(var_dic_list())"
    },
    "r": {
     "delete_cmd_postfix": ") ",
     "delete_cmd_prefix": "rm(",
     "library": "var_list.r",
     "varRefreshCmd": "cat(var_dic_list()) "
    }
   },
   "types_to_exclude": [
    "module",
    "function",
    "builtin_function_or_method",
    "instance",
    "_Feature"
   ],
   "window_display": false
  }
 },
 "nbformat": 4,
 "nbformat_minor": 2
}
